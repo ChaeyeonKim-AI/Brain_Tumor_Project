{
  "nbformat": 4,
  "nbformat_minor": 0,
  "metadata": {
    "colab": {
      "provenance": []
    },
    "kernelspec": {
      "name": "python3",
      "display_name": "Python 3"
    },
    "language_info": {
      "name": "python"
    }
  },
  "cells": [
    {
      "cell_type": "code",
      "execution_count": null,
      "metadata": {
        "id": "68QNt-jHfAsA"
      },
      "outputs": [],
      "source": [
        "import cv2\n",
        "import numpy as np\n",
        "from scipy.spatial import distance\n",
        "import openai"
      ]
    },
    {
      "cell_type": "code",
      "source": [
        "# OpenAI API 키 설정\n",
        "openai.api_key = \"your_api_key\""
      ],
      "metadata": {
        "id": "OiUsaMrKgiSv"
      },
      "execution_count": null,
      "outputs": []
    },
    {
      "cell_type": "code",
      "source": [
        "# 1. 종양 마스크와 결과 계산 함수\n",
        "def process_image(image_path):\n",
        "    \"\"\"\n",
        "    입력 이미지를 처리하고, 마스크와 계산된 결과 반환\n",
        "    \"\"\"\n",
        "    # 이미지 로드 (Grayscale)\n",
        "    image = cv2.imread(image_path, cv2.IMREAD_GRAYSCALE)\n",
        "\n",
        "    # 1-1. 종양 중심 계산\n",
        "    tumor_pixels = np.column_stack(np.where(image == 255))  # 흰색 픽셀 좌표\n",
        "    tumor_center = tumor_pixels.mean(axis=0) if len(tumor_pixels) > 0 else (0, 0)\n",
        "\n",
        "    # 1-2. 뇌 중심 계산\n",
        "    brain_center = np.array(image.shape) / 2\n",
        "\n",
        "    # 1-3. 거리 계산\n",
        "    distance_to_center = distance.euclidean(tumor_center, brain_center)\n",
        "\n",
        "    # 1-4. 종양 크기 계산\n",
        "    tumor_size = len(tumor_pixels)\n",
        "\n",
        "    # 1-5. 종양 불규칙성 계산 (컨투어 꼭짓점 수)\n",
        "    contours, _ = cv2.findContours(image, cv2.RETR_EXTERNAL, cv2.CHAIN_APPROX_SIMPLE)\n",
        "    irregularity = len(cv2.convexHull(contours[0])) if contours else 0\n",
        "\n",
        "    return image, tumor_center, brain_center, distance_to_center, tumor_size, irregularity\n"
      ],
      "metadata": {
        "id": "t0z5sYGlgj9v"
      },
      "execution_count": null,
      "outputs": []
    },
    {
      "cell_type": "code",
      "source": [
        "# 2. 위험도 지수 계산 함수\n",
        "def calculate_risk(distance, size, irregularity, weights):\n",
        "    \"\"\"\n",
        "    위험도 지수를 계산\n",
        "    \"\"\"\n",
        "    w1, w2, w3 = weights\n",
        "    risk_score = w1 * distance + w2 * size + w3 * irregularity\n",
        "    return risk_score"
      ],
      "metadata": {
        "id": "VER9iqwGgls8"
      },
      "execution_count": null,
      "outputs": []
    },
    {
      "cell_type": "code",
      "source": [
        "gpt = \"너는 ~~하는 애야.\""
      ],
      "metadata": {
        "id": "TuzU7QyXpv5Z"
      },
      "execution_count": null,
      "outputs": []
    },
    {
      "cell_type": "code",
      "source": [
        "# 3. LLM 메시지 생성 함수\n",
        "def llm_output(risk_score):\n",
        "    \"\"\"\n",
        "    LLM을 사용하여 위험도 지수에 따른 메시지 출력\n",
        "    \"\"\"\n",
        "    if risk_score <= 33:\n",
        "        message = \"종양의 위험도가 낮습니다. 정기적인 검진만 권장됩니다.\"\n",
        "    elif risk_score <= 66:\n",
        "        message = \"종양의 위험도가 중간 수준입니다. 추가적인 검진이 필요합니다.\"\n",
        "    else:\n",
        "        message = \"종양의 위험도가 높습니다. 즉각적인 의료 조치가 필요합니다.\"\n",
        "\n",
        "    # LLM 메시지 생성\n",
        "    response = openai.ChatCompletion.create(\n",
        "        model=\"gpt-4\",\n",
        "        messages=[\n",
        "            {\"role\": \"system\", \"content\": \"You are a medical assistant.\"},\n",
        "            {\"role\": \"user\", \"content\": f\"위험도: {risk_score}\\n{message}\"}\n",
        "        ]\n",
        "    )\n",
        "    return response['choices'][0]['message']['content']"
      ],
      "metadata": {
        "id": "My5VMaOIgoMU"
      },
      "execution_count": null,
      "outputs": []
    },
    {
      "cell_type": "code",
      "source": [
        "# 4. 전체 파이프라인 실행\n",
        "def main(image_path, weights):\n",
        "    # 이미지 처리 및 결과 계산\n",
        "    image, tumor_center, brain_center, distance_to_center, tumor_size, irregularity = process_image(image_path)\n",
        "\n",
        "    # 위험도 지수 계산\n",
        "    risk_score = calculate_risk(distance_to_center, tumor_size, irregularity, weights)\n",
        "\n",
        "    # LLM 메시지 출력\n",
        "    llm_message = llm_output(risk_score)\n",
        "\n",
        "    # 결과 출력\n",
        "    print(\"=== 결과 ===\")\n",
        "    print(f\"종양 중심: {tumor_center}\")\n",
        "    print(f\"뇌 중심: {brain_center}\")\n",
        "    print(f\"종양-뇌 중심 거리: {distance_to_center}\")\n",
        "    print(f\"종양 크기(픽셀 수): {tumor_size}\")\n",
        "    print(f\"종양 모양 불규칙성(꼭짓점 수): {irregularity}\")\n",
        "    print(f\"위험도 지수: {risk_score}\")\n",
        "    print(\"\\nLLM 메시지:\")\n",
        "    print(llm_message)\n",
        "\n",
        "    # 이미지와 마스크 시각화\n",
        "    cv2.imshow(\"Tumor Mask\", image)\n",
        "    cv2.waitKey(0)\n",
        "    cv2.destroyAllWindows()"
      ],
      "metadata": {
        "id": "O1UqN6azgqaM"
      },
      "execution_count": null,
      "outputs": []
    },
    {
      "cell_type": "code",
      "source": [
        "# 실행 예제\n",
        "if __name__ == \"__main__\":\n",
        "    # 테스트용 이미지 경로와 가중치 설정\n",
        "    test_image_path = \"masked_image.png\"  # 예시 이미지 경로\n",
        "    risk_weights = (0.3, 0.5, 0.2)  # 가중치 (거리, 크기, 불규칙성)\n",
        "\n",
        "    main(test_image_path, risk_weights)"
      ],
      "metadata": {
        "id": "53RzfgUUgr8-"
      },
      "execution_count": null,
      "outputs": []
    }
  ]
}